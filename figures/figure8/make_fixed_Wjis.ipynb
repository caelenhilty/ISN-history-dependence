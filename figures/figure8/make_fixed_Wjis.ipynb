{
 "cells": [
  {
   "cell_type": "code",
   "execution_count": 57,
   "id": "e925cc79",
   "metadata": {},
   "outputs": [],
   "source": [
    "import numpy as np\n",
    "import pandas as pd\n",
    "import matplotlib.pyplot as plt\n",
    "from tqdm import tqdm\n",
    "import time\n",
    "\n",
    "import scipy\n",
    "\n",
    "import sys\n",
    "from pathlib import Path\n",
    "sys.path.insert(0, str(Path().resolve().parents[1]))\n",
    "from model import left_right_task as lrt, network_model, util, plot_style\n",
    "\n",
    "# Load the fiducial network\n",
    "Wji, pset, amp, dur, l_kernel, r_kernel = util.load_fiducial_network(True)"
   ]
  },
  {
   "cell_type": "code",
   "execution_count": 66,
   "id": "256060d6",
   "metadata": {},
   "outputs": [
    {
     "name": "stdout",
     "output_type": "stream",
     "text": [
      "Wji means: [0.07055, 0.04329000000000001, 0.0037600000000000003, 0.00266]\n",
      "Wji stds: [0.001534536221080462, 0.0012065114114338733, 9.510277250660907e-05, 7.013053548784869e-05]\n",
      "CVs [0.02175104 0.02787044 0.02529329 0.02636486]\n"
     ]
    }
   ],
   "source": [
    "# calculate means of Wji, ignoring the diagonal\n",
    "Wji_means = [np.mean(w[np.eye(w.shape[0], dtype=bool) == False]) for w in Wji]\n",
    "# calculate stds of Wji, ignoring the diagonal\n",
    "Wji_stds = [np.std(w[np.eye(w.shape[0], dtype=bool) == False]) for w in Wji]\n",
    "\n",
    "# print the means and stds\n",
    "print(\"Wji means:\", Wji_means)\n",
    "print(\"Wji stds:\", Wji_stds)\n",
    "print('CVs', Wji_stds / np.array(Wji_means))"
   ]
  },
  {
   "cell_type": "code",
   "execution_count": 25,
   "id": "eff6d865",
   "metadata": {},
   "outputs": [
    {
     "data": {
      "text/plain": [
       "array([-2.15788606, -2.04256772,  1.99686518,  1.99939067])"
      ]
     },
     "execution_count": 25,
     "metadata": {},
     "output_type": "execute_result"
    }
   ],
   "source": [
    "np.array([np.std(w) for w in Wji]) / Wji_means"
   ]
  },
  {
   "cell_type": "code",
   "execution_count": 16,
   "id": "c76ac632",
   "metadata": {},
   "outputs": [
    {
     "name": "stdout",
     "output_type": "stream",
     "text": [
      "[0.01       0.03760603 0.14142136 0.53182959 2.        ]\n"
     ]
    }
   ],
   "source": [
    "print(np.logspace(-2, np.log10(2), 5))"
   ]
  },
  {
   "cell_type": "code",
   "execution_count": null,
   "id": "f1aa7140",
   "metadata": {},
   "outputs": [],
   "source": [
    "def new_make_Wji(rng:np.random.default_rng, numPairs:int, mean:float, std:float,\n",
    "                 mean_tol = None, std_tol =None, timeout=np.inf, timeout_limit=10,\n",
    "                 verbose=False):\n",
    "    \n",
    "    assert mean != 0, \"Mean cannot be zero\"\n",
    "    assert std  >= 0, \"Standard deviation must be non-negative\"\n",
    "    assert mean_tol >= 0, \"Mean tolerance must be non-negative\"\n",
    "    assert std_tol >= 0, \"Standard deviation tolerance must be non-negative\"\n",
    "\n",
    "    if mean_tol is None:\n",
    "        mean_tol = 0.05 * mean\n",
    "    if std_tol is None:\n",
    "        std_tol = 0.05 * std\n",
    "\n",
    "    if std == 0:\n",
    "        Wji = np.ones((numPairs, numPairs)) * mean\n",
    "        np.fill_diagonal(Wji, 0)\n",
    "        return Wji\n",
    "\n",
    "    sign = -1 if mean < 0 else 1\n",
    "    abs_mean = np.abs(mean)\n",
    "\n",
    "    mu_log = np.log(abs_mean**2 / np.sqrt(std**2 + abs_mean**2))\n",
    "    sigma_log = np.sqrt(np.log(1 + (std**2 / abs_mean**2)))\n",
    "    Wji = _log_normal_helper(rng, numPairs, mu_log, sigma_log, abs_mean, mean_tol, timeout)\n",
    "    # now enforce std\n",
    "    get_whole_std = lambda Wji: np.std(Wji[np.eye(Wji.shape[0], dtype=bool) == False])\n",
    "    timeouts = 0\n",
    "    tries = 0\n",
    "    closest = np.inf\n",
    "    while np.abs(get_whole_std(Wji) - std) > std_tol:\n",
    "        try:\n",
    "            std_boost = tries * 1e-6 * std # small boost to sigma to help convergence\n",
    "            # helps a lot for higher stds, where we need \n",
    "            # to get samples from the tail to match the mean and std simultaneously\n",
    "\n",
    "            # recompute log-normal parameters\n",
    "            mu_log = np.log(abs_mean**2 / np.sqrt((std + std_boost)**2 + abs_mean**2))\n",
    "            sigma_log = np.sqrt(np.log(1 + ((std + std_boost)**2 / abs_mean**2)))\n",
    "            Wji = _log_normal_helper(rng, numPairs, mu_log, sigma_log, abs_mean, mean_tol, timeout)\n",
    "            tries += 1\n",
    "            current_std = get_whole_std(Wji)\n",
    "            if np.abs(current_std - std) < closest:\n",
    "                closest = np.abs(current_std - std)\n",
    "            if verbose and tries%1000==0: print(f\"Retry {tries}: closest = {closest:.3f}, target = {std:.3f} \", end='\\r')\n",
    "        except TimeoutError:\n",
    "            timeouts += 1\n",
    "            if timeouts > timeout_limit:\n",
    "                raise TimeoutError(f\"Timeout count exceeded while generating Wji with mean {mean} and std {std}\")\n",
    "            continue\n",
    "    if verbose: print()\n",
    "    return Wji * sign\n",
    "\n",
    "def _log_normal_helper(rng, numPairs, mu, sigma, mean, mean_tol, timeout=np.inf):\n",
    "    \"\"\"Generates an array where each row has the desired mean\"\"\"\n",
    "    Wji = np.zeros((numPairs, numPairs))\n",
    "    for i in range(numPairs):\n",
    "        start_time = time.time()\n",
    "        curr_time = start_time\n",
    "        values = rng.lognormal(mu, sigma, numPairs-1)\n",
    "        current_mean = np.mean(values)\n",
    "        while abs(current_mean - mean) > mean_tol and \\\n",
    "                abs(curr_time - start_time) < timeout:\n",
    "            values = rng.lognormal(mu, sigma, numPairs-1)\n",
    "            current_mean = np.mean(values)\n",
    "            curr_time = time.time()\n",
    "        if np.abs(current_mean - mean) <= mean_tol:\n",
    "            Wji[i] = np.insert(values, i, 0)  # Insert zero on the diagonal\n",
    "        if abs(curr_time - start_time) >= timeout:\n",
    "            raise TimeoutError(f\"Timeout exceeded while generating Wji with mean {mean} and std {sigma}\")\n",
    "    return Wji\n"
   ]
  },
  {
   "cell_type": "code",
   "execution_count": 137,
   "id": "8246d252",
   "metadata": {},
   "outputs": [
    {
     "name": "stdout",
     "output_type": "stream",
     "text": [
      "0.1\n",
      "Mean of Wji_test: 1.010392567814888\n",
      "Std of Wji_test: 0.10357593514682097\n",
      "0.1778279410038923\n",
      "Mean of Wji_test: 1.0111319585402656\n",
      "Std of Wji_test: 0.1746121856133018\n",
      "0.31622776601683794\n",
      "Mean of Wji_test: 0.9983498109952766\n",
      "Std of Wji_test: 0.32306818976836166\n",
      "0.5623413251903491\n",
      "Mean of Wji_test: 0.9938524277732469\n",
      "Std of Wji_test: 0.5436597410182112\n",
      "1.0\n",
      "Mean of Wji_test: 0.9865949584538551\n",
      "Std of Wji_test: 0.9652266707000106\n"
     ]
    }
   ],
   "source": [
    "# test new_make_Wji\n",
    "for i in np.logspace(-1, np.log10(1),5):\n",
    "    print(i)\n",
    "    rng = np.random.default_rng()\n",
    "    Wji_test = new_make_Wji(rng, 5, 1, i, mean_tol=0.05, std_tol=0.05*i, verbose=i>1)\n",
    "    print(\"Mean of Wji_test:\", np.mean(Wji_test[np.eye(Wji_test.shape[0], dtype=bool) == False]))\n",
    "    print(\"Std of Wji_test:\", np.std(Wji_test[np.eye(Wji_test.shape[0], dtype=bool) == False]))"
   ]
  },
  {
   "cell_type": "code",
   "execution_count": null,
   "id": "b4e46637",
   "metadata": {},
   "outputs": [],
   "source": []
  }
 ],
 "metadata": {
  "kernelspec": {
   "display_name": "millerlab",
   "language": "python",
   "name": "python3"
  },
  "language_info": {
   "codemirror_mode": {
    "name": "ipython",
    "version": 3
   },
   "file_extension": ".py",
   "mimetype": "text/x-python",
   "name": "python",
   "nbconvert_exporter": "python",
   "pygments_lexer": "ipython3",
   "version": "3.10.11"
  }
 },
 "nbformat": 4,
 "nbformat_minor": 5
}
