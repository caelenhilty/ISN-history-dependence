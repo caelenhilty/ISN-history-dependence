{
 "cells": [
  {
   "cell_type": "code",
   "execution_count": 3,
   "id": "859399c1",
   "metadata": {},
   "outputs": [],
   "source": [
    "import numpy as np\n",
    "import pandas as pd\n",
    "import matplotlib.pyplot as plt\n",
    "from tqdm import tqdm\n",
    "\n",
    "import sys\n",
    "from pathlib import Path\n",
    "sys.path.insert(0, str(Path().resolve().parents[1]))\n",
    "from model import left_right_task as lrt, network_model, util, plot_style"
   ]
  },
  {
   "cell_type": "code",
   "execution_count": 4,
   "id": "e3962b89",
   "metadata": {},
   "outputs": [
    {
     "name": "stdout",
     "output_type": "stream",
     "text": [
      "c:\\Users\\caele\\Documents\\miller-lab-final\\figures\\figure7\n"
     ]
    }
   ],
   "source": [
    "import os\n",
    "\n",
    "print(os.getcwd())"
   ]
  },
  {
   "cell_type": "code",
   "execution_count": 5,
   "id": "12233e4c",
   "metadata": {},
   "outputs": [],
   "source": [
    "# task parameters\n",
    "numPairs = 5\n",
    "dt = 1e-5\n",
    "seq_len = 6\n",
    "sequences = lrt.make_all_sequences(seq_len, ['L', 'R'])\n",
    "equil_duration = 2"
   ]
  },
  {
   "cell_type": "code",
   "execution_count": 6,
   "id": "450808d8",
   "metadata": {},
   "outputs": [
    {
     "name": "stdout",
     "output_type": "stream",
     "text": [
      "(1000,)\n"
     ]
    }
   ],
   "source": [
    "# load reliabilities\n",
    "reliabilities = np.load('../figure6/data_1/reliabilities.npy', allow_pickle=True)\n",
    "print(reliabilities.shape)"
   ]
  },
  {
   "cell_type": "code",
   "execution_count": 13,
   "id": "4f450431",
   "metadata": {},
   "outputs": [
    {
     "data": {
      "text/plain": [
       "array([785, 797, 857], dtype=int64)"
      ]
     },
     "execution_count": 13,
     "metadata": {},
     "output_type": "execute_result"
    }
   ],
   "source": [
    "np.argsort(reliabilities)[-3:]"
   ]
  },
  {
   "cell_type": "code",
   "execution_count": 14,
   "id": "7cdb0b86",
   "metadata": {},
   "outputs": [
    {
     "data": {
      "text/plain": [
       "array([1., 1., 1.])"
      ]
     },
     "execution_count": 14,
     "metadata": {},
     "output_type": "execute_result"
    }
   ],
   "source": [
    "reliabilities[np.argsort(reliabilities)[-3:]]"
   ]
  },
  {
   "cell_type": "code",
   "execution_count": 9,
   "id": "62897b4a",
   "metadata": {},
   "outputs": [],
   "source": [
    "Wji, pset, amp, dur, l_kernel, r_kernel = util.load_fiducial_network(True)"
   ]
  },
  {
   "cell_type": "code",
   "execution_count": 10,
   "id": "0cc80c0f",
   "metadata": {},
   "outputs": [],
   "source": [
    "def run_trial(i, amp):\n",
    "    rng = np.random.default_rng(i)\n",
    "    \n",
    "    # make kernels -- same mean\n",
    "    l_kernel = rng.lognormal(0, 1, numPairs)\n",
    "    l_kernel = l_kernel / np.sum(l_kernel) * numPairs\n",
    "    l_kernel = np.round(l_kernel, 5)\n",
    "    r_kernel = rng.lognormal(0, 1, numPairs)\n",
    "    r_kernel = r_kernel / np.sum(r_kernel) * numPairs\n",
    "    r_kernel = np.round(r_kernel, 5)\n",
    "    \n",
    "    # make stimuli\n",
    "    stim_map = lrt.make_stim_map(numPairs, amp, dur, l_kernel, r_kernel, dt)\n",
    "    \n",
    "    # make FSM\n",
    "    FSM = lrt.make_FSM(numPairs, pset, Wji, stim_map, 2, dt=dt)\n",
    "    \n",
    "    reliability = lrt.FSM_reliability(sequences, FSM)\n",
    "\n",
    "    return reliability # for now\n",
    "    \n",
    "    # pcurve and decision dictionary computations -----------------------\n",
    "    # trace all sequences on the graph\n",
    "    nodes_dict = {node: [] for node in list(FSM.nodes)}\n",
    "    for seq in sequences:\n",
    "        # start at the beginning\n",
    "        current_node = 1\n",
    "        # trace the sequence\n",
    "        for letter in seq:\n",
    "            for edge in FSM.out_edges(current_node, keys=True):\n",
    "                if FSM.edges[edge]['label'] == letter:\n",
    "                    # move to the next node\n",
    "                    current_node = edge[1]\n",
    "                    break\n",
    "        nodes_dict[current_node].append(seq)\n",
    "\n",
    "    left_counts = np.zeros(seq_len + 1)\n",
    "    left_choices = np.zeros(seq_len + 1)\n",
    "    decision_dict = {}\n",
    "    for node in nodes_dict:\n",
    "        # is the node a L or R node? based on frequency\n",
    "        l_cue_counts = [seq.count('L') for seq in nodes_dict[node]]\n",
    "        num_above = sum([1 for count in l_cue_counts if count > seq_len/2])\n",
    "        num_below = sum([1 for count in l_cue_counts if count < seq_len/2])\n",
    "        if num_above == num_below:\n",
    "            for count in l_cue_counts:\n",
    "                left_counts[count] += 1     # record distribution of `counts` terminating in current node\n",
    "                left_choices[count] += 0.5   # record how many times each `count` resulted in a left decision\n",
    "            for seq in nodes_dict[node]:\n",
    "                decision_dict[seq] = 'Tie'\n",
    "        else:\n",
    "            left_decision = num_below < num_above # True if L, False if R\n",
    "            for count in l_cue_counts:\n",
    "                left_counts[count] += 1     # record distribution of `counts` terminating in current node\n",
    "                left_choices[count] += left_decision   # record how many times each `count` resulted in a left decision\n",
    "            # update dictionary\n",
    "            for seq in nodes_dict[node]:\n",
    "                decision_dict[seq] = 'L' if left_decision else 'R'\n",
    "    \n",
    "    p_curve = left_choices/left_counts\n",
    "\n",
    "    return reliability, p_curve, decision_dict"
   ]
  },
  {
   "cell_type": "code",
   "execution_count": 11,
   "id": "10b44d6e",
   "metadata": {},
   "outputs": [
    {
     "name": "stderr",
     "output_type": "stream",
     "text": [
      "3it [07:34, 151.63s/it]\n"
     ]
    }
   ],
   "source": [
    "n_kernels = 3\n",
    "amps = [amp/2, amp, amp*1.5]\n",
    "new_reliabilities = np.zeros((len(amps), n_kernels))\n",
    "for i, amp in tqdm(enumerate(amps)):\n",
    "    for j, seed in enumerate(np.argsort(reliabilities)[-n_kernels:]):\n",
    "        new_reliabilities[i, j] = run_trial(seed, amp)"
   ]
  },
  {
   "cell_type": "code",
   "execution_count": 12,
   "id": "21c8a070",
   "metadata": {},
   "outputs": [
    {
     "data": {
      "text/plain": [
       "array([[0.52272727, 0.52272727, 0.52272727],\n",
       "       [0.79545455, 0.79545455, 1.        ],\n",
       "       [0.52272727, 0.52272727, 0.68181818]])"
      ]
     },
     "execution_count": 12,
     "metadata": {},
     "output_type": "execute_result"
    }
   ],
   "source": [
    "new_reliabilities"
   ]
  },
  {
   "cell_type": "code",
   "execution_count": null,
   "id": "a3badcff",
   "metadata": {},
   "outputs": [],
   "source": []
  }
 ],
 "metadata": {
  "kernelspec": {
   "display_name": "millerlab",
   "language": "python",
   "name": "python3"
  },
  "language_info": {
   "codemirror_mode": {
    "name": "ipython",
    "version": 3
   },
   "file_extension": ".py",
   "mimetype": "text/x-python",
   "name": "python",
   "nbconvert_exporter": "python",
   "pygments_lexer": "ipython3",
   "version": "3.10.11"
  }
 },
 "nbformat": 4,
 "nbformat_minor": 5
}
