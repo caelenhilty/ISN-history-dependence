{
 "cells": [
  {
   "cell_type": "code",
   "execution_count": null,
   "id": "1638d476",
   "metadata": {},
   "outputs": [],
   "source": [
    "import numpy as np\n",
    "import pandas as pd\n",
    "import matplotlib.pyplot as plt\n",
    "\n",
    "import sys\n",
    "from pathlib import Path\n",
    "sys.path.insert(0, str(Path().resolve().parents[1]))\n",
    "from model import left_right_task as lrt, network_model, util, plot_style\n",
    "\n",
    "# Load the fiducial network\n",
    "Wji, pset, amp, dur, l_kernel, r_kernel = util.load_fiducial_network(True)\n",
    "\n",
    "Wji_means = np.array([np.mean(w[np.eye(w.shape[0], dtype=bool) == False]) for w in Wji])\n"
   ]
  },
  {
   "cell_type": "code",
   "execution_count": 5,
   "id": "64fb5fd8",
   "metadata": {},
   "outputs": [
    {
     "data": {
      "text/plain": [
       "array([ 1.00000000e-02,  1.00000000e-02,  0.00000000e+00,  0.00000000e+00,\n",
       "        0.00000000e+00,  0.00000000e+00,  0.00000000e+00,  0.00000000e+00,\n",
       "        1.19792554e+01,  4.36437108e+01, -4.75062770e+00, -1.03428554e+01,\n",
       "        7.39000000e+00,  1.04790000e+02])"
      ]
     },
     "execution_count": 5,
     "metadata": {},
     "output_type": "execute_result"
    }
   ],
   "source": [
    "pset"
   ]
  },
  {
   "cell_type": "code",
   "execution_count": 6,
   "id": "4c654547",
   "metadata": {},
   "outputs": [
    {
     "ename": "TypeError",
     "evalue": "make_data_folder() got an unexpected keyword argument 'name'",
     "output_type": "error",
     "traceback": [
      "\u001b[1;31m---------------------------------------------------------------------------\u001b[0m",
      "\u001b[1;31mTypeError\u001b[0m                                 Traceback (most recent call last)",
      "Cell \u001b[1;32mIn[6], line 2\u001b[0m\n\u001b[0;32m      1\u001b[0m data_dir \u001b[38;5;241m=\u001b[39m \u001b[38;5;124m'\u001b[39m\u001b[38;5;124mfigures/figure8/data\u001b[39m\u001b[38;5;124m'\u001b[39m\n\u001b[1;32m----> 2\u001b[0m output_dir \u001b[38;5;241m=\u001b[39m \u001b[43mutil\u001b[49m\u001b[38;5;241;43m.\u001b[39;49m\u001b[43mmake_data_folder\u001b[49m\u001b[43m(\u001b[49m\u001b[43mdata_dir\u001b[49m\u001b[43m,\u001b[49m\u001b[43m \u001b[49m\u001b[43mname\u001b[49m\u001b[38;5;241;43m=\u001b[39;49m\u001b[38;5;124;43m'\u001b[39;49m\u001b[38;5;124;43mraw_reliabilities\u001b[39;49m\u001b[38;5;124;43m'\u001b[39;49m\u001b[43m)\u001b[49m\n\u001b[0;32m      3\u001b[0m CVs \u001b[38;5;241m=\u001b[39m np\u001b[38;5;241m.\u001b[39mlogspace(\u001b[38;5;241m-\u001b[39m\u001b[38;5;241m2\u001b[39m, \u001b[38;5;241m0\u001b[39m, \u001b[38;5;241m5\u001b[39m)\n",
      "\u001b[1;31mTypeError\u001b[0m: make_data_folder() got an unexpected keyword argument 'name'"
     ]
    }
   ],
   "source": [
    "data_dir = 'figures/figure8/data'\n",
    "output_dir = util.make_data_folder(data_dir, name='raw_reliabilities')\n",
    "CVs = np.logspace(-2, 0, 5)"
   ]
  },
  {
   "cell_type": "code",
   "execution_count": 3,
   "id": "1157a01a",
   "metadata": {},
   "outputs": [],
   "source": [
    "# task parameters\n",
    "numPairs = 5\n",
    "dt = 1e-5\n",
    "seq_len = 6\n",
    "sequences = lrt.make_all_sequences(seq_len, ['L', 'R'])\n",
    "equil_duration = 2"
   ]
  },
  {
   "cell_type": "code",
   "execution_count": null,
   "id": "7e6cc48e",
   "metadata": {},
   "outputs": [],
   "source": [
    "# universal parameter sweep\n",
    "n = 25\n",
    "amp_range = np.logspace(np.log10(7.39), 2, n) # 7.39 is thetaE -- need to turn it on to get a response\n",
    "dur_range = np.linspace(0, 0.05, n)\n",
    "dur_mesh, amp_mesh = np.meshgrid(dur_range, amp_range) # amp on y-axis, duration on x-axis\n",
    "dur_flat, amp_flat = dur_mesh.ravel(), amp_mesh.ravel()"
   ]
  },
  {
   "cell_type": "code",
   "execution_count": null,
   "id": "a1499ed5",
   "metadata": {},
   "outputs": [],
   "source": [
    "def run_model(Wji, dur, amp):\n",
    "    if dur == 0:\n",
    "        return 0.5  # return a default reliability for zero duration\n",
    "\n",
    "    # define the stimulus\n",
    "    stim_map = lrt.make_stim_map(numPairs, amp, dur, l_kernel, r_kernel, dt)\n",
    "\n",
    "    # run the model\n",
    "    FSM = lrt.make_FSM(numPairs, pset, Wji, stim_map, 2, dt=dt)\n",
    "    reliability = lrt.FSM_reliability(sequences, FSM)\n",
    "    return reliability\n"
   ]
  },
  {
   "cell_type": "code",
   "execution_count": null,
   "id": "e4c256ea",
   "metadata": {},
   "outputs": [],
   "source": [
    "def run_sweep(CV, i):\n",
    "    # make the Wji matrix\n",
    "    Wji = util.make_Wji(Wji_means, CV)\n",
    "\n",
    "    # run the model for each combination of duration and amplitude\n",
    "    reliabilities = np.array([run_model(Wji, dur, amp) for dur, amp in zip(dur_flat, amp_flat)])\n",
    "\n",
    "    # reshape the results to match the input grid\n",
    "    reliability_grid = reliabilities.reshape(dur_mesh.shape)\n",
    "\n",
    "    # save the results\n",
    "    "
   ]
  }
 ],
 "metadata": {
  "kernelspec": {
   "display_name": "millerlab",
   "language": "python",
   "name": "python3"
  },
  "language_info": {
   "codemirror_mode": {
    "name": "ipython",
    "version": 3
   },
   "file_extension": ".py",
   "mimetype": "text/x-python",
   "name": "python",
   "nbconvert_exporter": "python",
   "pygments_lexer": "ipython3",
   "version": "3.10.11"
  }
 },
 "nbformat": 4,
 "nbformat_minor": 5
}
